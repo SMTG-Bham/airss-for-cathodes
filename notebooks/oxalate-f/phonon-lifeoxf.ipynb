{
 "cells": [
  {
   "cell_type": "markdown",
   "id": "d4d75f4b-46b6-42c9-8f60-0684efa2fe99",
   "metadata": {},
   "source": [
    "## Do Phonon calculations for $\\ce{LiFeOxF}$"
   ]
  },
  {
   "cell_type": "code",
   "execution_count": 1,
   "id": "8719b141-0fe0-4378-8a6f-8306b5e17c4d",
   "metadata": {},
   "outputs": [
    {
     "data": {
      "application/json": {
       "current_state": "Loaded AiiDA DB environment - profile name: scanlon-test."
      },
      "text/html": [
       "<p>Loaded AiiDA DB environment - profile name: scanlon-test.</p>"
      ],
      "text/latex": [
       "Loaded AiiDA DB environment - profile name: scanlon-test.\n"
      ],
      "text/plain": [
       "Loaded AiiDA DB environment - profile name: scanlon-test.\n"
      ]
     },
     "execution_count": 1,
     "metadata": {},
     "output_type": "execute_result"
    }
   ],
   "source": [
    "%aiida"
   ]
  },
  {
   "cell_type": "code",
   "execution_count": 2,
   "id": "c027b620-818a-4a78-bbcd-29ab5380bcf4",
   "metadata": {},
   "outputs": [
    {
     "name": "stdout",
     "output_type": "stream",
     "text": [
      "2LiFeOxF-210401-125112-a0dc43 RELAXED\n"
     ]
    }
   ],
   "source": [
    "base_structure = load_node('373caa6e-ce4a-48e1-b543-de4050665691')\n",
    "print(base_structure.label)"
   ]
  },
  {
   "cell_type": "code",
   "execution_count": 3,
   "id": "fc4f7bd7-ac1d-4d86-a4cb-51412c3d1c74",
   "metadata": {},
   "outputs": [],
   "source": [
    "from aiida_user_addons.process.transform import niggli_reduce, make_supercell"
   ]
  },
  {
   "cell_type": "code",
   "execution_count": 4,
   "id": "1fa1b728-d9f4-440b-b6fd-09e4eeebfaa5",
   "metadata": {},
   "outputs": [
    {
     "name": "stderr",
     "output_type": "stream",
     "text": [
      "09/15/2021 03:15:21 PM <21423> aiida.orm.nodes.process.calculation.calcfunction.CalcFunctionNode: [INFO] Process<623927>: Broadcasting state change: state_changed.created.running\n",
      "09/15/2021 03:15:22 PM <21423> aiida.orm.nodes.process.calculation.calcfunction.CalcFunctionNode: [INFO] Process<623927>: Broadcasting state change: state_changed.running.finished\n"
     ]
    }
   ],
   "source": [
    "reduced = niggli_reduce(base_structure)"
   ]
  },
  {
   "cell_type": "code",
   "execution_count": 5,
   "id": "2c628d42-974a-4d62-95b8-a28c5837717b",
   "metadata": {},
   "outputs": [],
   "source": [
    "reduced = load_node('4a7aa0a3-3e32-44f5-9a9c-cf1e2db0a5bc')"
   ]
  },
  {
   "cell_type": "code",
   "execution_count": 10,
   "id": "ab5255d5-eb44-420f-9e32-eaca793dd22a",
   "metadata": {},
   "outputs": [],
   "source": [
    "import numpy as np\n",
    "from aiida_user_addons.common.inputset.vaspsets import VASPInputSet\n",
    "import aiida.orm as orm\n",
    "from aiida_user_addons.vworkflows.phonon_wc import PhononSettings\n",
    "from aiida.engine import submit\n",
    "\n",
    "def setup_auto_phonon(structure, supercell_matrix, ncore=6, do_relax=True, init_relax_force_tol=1e-4, ncpus_frame=48, ncpus_relax=48, ncpus_nac=48,\n",
    "                      code_string='vasp-5.4.4-std-k@michael', ediff_super=1e-6, sp_extras=None, relax_extras=None, mesh=100, symmetry_tolerance=1e-5):\n",
    "    \"\"\"\n",
    "    Setup the automatric phonon workchain to perform high precision relaxation + finite displacement phonon calculation\n",
    "    \"\"\"\n",
    "    supercell_matrix = np.asarray(supercell_matrix)\n",
    "    gga = 'ps'  # Use PBESOL\n",
    "    if sp_extras is None:\n",
    "        sp_extras = {}\n",
    "    if relax_extras is None:\n",
    "        relax_extras = {}\n",
    "        \n",
    "    relax_set = VASPInputSet(\"UCLPhononSet\", structure, {'gga': gga,  'ncore': ncore, 'ediff': 1e-8, 'kpar': 2, 'ispin': 2, 'potim': 0.3, 'kpar': 2, **relax_extras})\n",
    "    sp_set = VASPInputSet(\"UCLPhononSet\", orm.StructureData(pymatgen=structure.get_pymatgen() * supercell_matrix), {'gga': gga, 'ediff': ediff_super, \n",
    "                                                                                                                    'ncore': ncore, 'kpar': 2, 'ispin': 2, 'isym': 0, **sp_extras})\n",
    "    nac_set = VASPInputSet(\"UCLPhononSet\", structure, {'gga': gga,  'ediff': 1e-8, 'ncore': None, 'lepsilon': True, 'ispin': 2, 'isym': 0})\n",
    "\n",
    "    VaspPhonon = WorkflowFactory('vaspu.phonopy')\n",
    "    pp_family = Str(\"PBE.54\")\n",
    "    pp_mapping = Dict(dict=relax_set.get_pp_mapping())\n",
    "\n",
    "    builder = VaspPhonon.get_builder()\n",
    "    relax = builder.relax\n",
    "    sp = builder.singlepoint\n",
    "    nac = builder.nac\n",
    "\n",
    "    ### Relaxation settings\n",
    "    if do_relax:\n",
    "        from aiida_user_addons.vworkflows.relax import RelaxOptions\n",
    "\n",
    "        relax.relax_settings = RelaxOptions(force_cutoff=init_relax_force_tol, convergence_on=True, algo='rd').to_aiida_dict()\n",
    "        relax.vasp.parameters = Dict(dict={'incar': relax_set.get_input_dict()})\n",
    "        relax.vasp.options = Dict(dict={\n",
    "            'resources': {'parallel_env': 'mpi', 'tot_num_mpiprocs': ncpus_relax},\n",
    "            'max_wallclock_seconds': int(3600 * 24)\n",
    "        })\n",
    "        relax.vasp.potential_family = pp_family\n",
    "        relax.vasp.potential_mapping = pp_mapping\n",
    "        relax.vasp.kpoints_spacing = Float(0.04)\n",
    "        relax.vasp.code = Code.get_from_string(code_string)\n",
    "        # Fix problem with increased symprec\n",
    "        relax.static_calc_parameters = Dict(dict={'incar': {'symprec': 1e-8}})\n",
    "        \n",
    "    ## Single point settings\n",
    "    sp.parameters = Dict(dict={'incar': sp_set.get_input_dict()})\n",
    "    sp.options = Dict(dict={\n",
    "        'resources': {\n",
    "            'parallel_env': 'mpi', \n",
    "            'tot_num_mpiprocs': ncpus_frame\n",
    "        },\n",
    "        'max_wallclock_seconds': int(3600 * 24)\n",
    "    })\n",
    "    sp.potential_family = pp_family\n",
    "    sp.potential_mapping = pp_mapping\n",
    "    sp.kpoints_spacing = Float(0.04)\n",
    "    sp.code = Code.get_from_string(code_string)\n",
    "\n",
    "    ## NAC settings\n",
    "    nac.parameters = Dict(dict={'incar': nac_set.get_input_dict()})\n",
    "    nac.options = Dict(dict={\n",
    "        'resources': {'parallel_env': 'mpi', 'tot_num_mpiprocs': ncpus_nac},\n",
    "        'max_wallclock_seconds': int(3600 * 12)\n",
    "    })\n",
    "    nac.potential_family = pp_family\n",
    "    nac.potential_mapping = pp_mapping\n",
    "    nac.kpoints = nac_set.get_kpoints(0.04)\n",
    "    nac.code = Code.get_from_string(code_string)\n",
    "\n",
    "    ## Phonon settings\n",
    "    settings = PhononSettings(supercell_matrix=supercell_matrix.tolist(), \n",
    "                              mesh=mesh)\n",
    "    settings.primitive_matrix = [[1, 0, 0], [0, 1, 0], [0, 0, 1]]\n",
    "    builder.phonon_settings = settings.to_aiida_dict()\n",
    "    builder.symmetry_tolerance = Float(symmetry_tolerance)\n",
    "    # Run supercell calculation and reuse the CHGCAR\n",
    "    builder.reuse_supercell_calc = Str(\"restart\")\n",
    "\n",
    "\n",
    "    builder.structure = structure\n",
    "    if supercell_matrix.ndim == 1:\n",
    "        builder.metadata.label = structure.label + \" SUPER {} {} {}\".format(*supercell_matrix) # INPUT the label here\n",
    "    else:\n",
    "        builder.metadata.label = structure.label + \" SUPER {:.0f}\".format(np.linalg.det(supercell_matrix)) # INPUT the label here\n",
    "\n",
    "    return builder"
   ]
  },
  {
   "cell_type": "code",
   "execution_count": 11,
   "id": "fefe29b6-7e80-4b54-b4f5-04009bd42dc3",
   "metadata": {},
   "outputs": [],
   "source": [
    "from ase.build import make_supercell, find_optimal_cell_shape\n",
    "from spglib import standardize_cell\n",
    "from ase import Atoms"
   ]
  },
  {
   "cell_type": "code",
   "execution_count": 12,
   "id": "9afe1ccf-5323-48a0-bc39-fe811ed18fa1",
   "metadata": {},
   "outputs": [],
   "source": [
    "transform_mat = np.array([\n",
    "    [2, 0, 0],\n",
    "    [-1, 2, 0],\n",
    "    [0, -1, 2],\n",
    "])\n",
    "sout = make_supercell(reduced.get_ase(), transform_mat)"
   ]
  },
  {
   "cell_type": "code",
   "execution_count": 13,
   "id": "4f7f64b4-751c-4803-ba85-80aa0bfa49a0",
   "metadata": {},
   "outputs": [],
   "source": [
    "supercell = load_node('9fd75b0a-aa8c-47d8-9ebb-9b6a904d4d85')"
   ]
  },
  {
   "cell_type": "markdown",
   "id": "070004df-9743-49ad-84b3-53b738a0560d",
   "metadata": {},
   "source": [
    "Note - transpose of the transform matrix is needed"
   ]
  },
  {
   "cell_type": "raw",
   "id": "dd79d7a7-cc39-4c2d-af93-1cfe5e45fb61",
   "metadata": {},
   "source": [
    "builder = setup_auto_phonon(reduced, transform_mat.T, mesh=80, code_string='vasp-5.4.4-std-k@michael')"
   ]
  },
  {
   "cell_type": "raw",
   "id": "3258c61f-4e72-4931-8ab4-7953110d7af9",
   "metadata": {},
   "source": [
    "submit(builder)"
   ]
  }
 ],
 "metadata": {
  "kernelspec": {
   "display_name": "Python [conda env:aiida-1.0-py3]",
   "language": "python",
   "name": "conda-env-aiida-1.0-py3-py"
  },
  "language_info": {
   "codemirror_mode": {
    "name": "ipython",
    "version": 3
   },
   "file_extension": ".py",
   "mimetype": "text/x-python",
   "name": "python",
   "nbconvert_exporter": "python",
   "pygments_lexer": "ipython3",
   "version": "3.8.10"
  }
 },
 "nbformat": 4,
 "nbformat_minor": 5
}
