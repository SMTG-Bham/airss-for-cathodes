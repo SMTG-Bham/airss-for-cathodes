{
 "cells": [
  {
   "cell_type": "markdown",
   "metadata": {},
   "source": [
    "## Analyse the competing phases\n",
    "\n",
    "We load the search structures found by atomate and then compare against the competing phases relaxed using AiiDA."
   ]
  },
  {
   "cell_type": "code",
   "execution_count": 1,
   "metadata": {},
   "outputs": [
    {
     "data": {
      "application/json": {
       "current_state": "Loaded AiiDA DB environment - profile name: scanlon-test."
      },
      "text/html": [
       "<p>Loaded AiiDA DB environment - profile name: scanlon-test.</p>"
      ],
      "text/latex": [
       "Loaded AiiDA DB environment - profile name: scanlon-test.\n"
      ],
      "text/plain": [
       "Loaded AiiDA DB environment - profile name: scanlon-test.\n"
      ]
     },
     "execution_count": 1,
     "metadata": {},
     "output_type": "execute_result"
    }
   ],
   "source": [
    "%aiida"
   ]
  },
  {
   "cell_type": "code",
   "execution_count": 2,
   "metadata": {},
   "outputs": [],
   "source": [
    "from toolchest import hull\n",
    "\n",
    "import pandas as pd"
   ]
  },
  {
   "cell_type": "markdown",
   "metadata": {},
   "source": [
    "## Load the entries from the previous calculations"
   ]
  },
  {
   "cell_type": "code",
   "execution_count": 5,
   "metadata": {},
   "outputs": [],
   "source": [
    "li_fe_o_group = Group.objects.get(label='li-fe-o-s/mp-structures')\n",
    "c_f_group = Group.objects.get(label='oxalates-f/competing/li-fe-c-o-f-phases/with-c-f')\n",
    "\n",
    "def get_valid_pd(groups):\n",
    "    entries = hull.get_relax_records(groups, 520, functional='pbesol')\n",
    "\n",
    "    valid_entries = entries[\n",
    "        (entries.functional == 'pbesol') & \n",
    "        (~entries.formula.str.contains('S') )\n",
    "        ]\n",
    "    valid_rows = []\n",
    "    for _, row in valid_entries.iterrows():\n",
    "        if 'Fe' in row.formula:\n",
    "            if row.umap.get('Fe') == 4.0:\n",
    "                valid_rows.append(row)\n",
    "        else:\n",
    "            valid_rows.append(row)\n",
    "    valid_entries = pd.DataFrame(valid_rows)\n",
    "    return valid_entries"
   ]
  },
  {
   "cell_type": "code",
   "execution_count": 6,
   "metadata": {},
   "outputs": [
    {
     "name": "stdout",
     "output_type": "stream",
     "text": [
      "Entries: 209\n"
     ]
    },
    {
     "data": {
      "application/vnd.jupyter.widget-view+json": {
       "model_id": "66def70ae84e41e7939bf03660973eca",
       "version_major": 2,
       "version_minor": 0
      },
      "text/plain": [
       "  0%|          | 0/209 [00:00<?, ?it/s]"
      ]
     },
     "metadata": {},
     "output_type": "display_data"
    }
   ],
   "source": [
    "competing_df = get_valid_pd([li_fe_o_group, c_f_group])"
   ]
  },
  {
   "cell_type": "code",
   "execution_count": 7,
   "metadata": {
    "tags": []
   },
   "outputs": [],
   "source": [
    "competing_entries = hull.get_entry(competing_df)"
   ]
  },
  {
   "cell_type": "markdown",
   "metadata": {},
   "source": [
    "## Experimental structure of $\\ce{Li2Fe(C2O4)2}$"
   ]
  },
  {
   "cell_type": "code",
   "execution_count": 8,
   "metadata": {},
   "outputs": [
    {
     "data": {
      "text/plain": [
       "<module 'toolchest.hull' from '/home/bonan/appdir/python-tools/toolchest/hull.py'>"
      ]
     },
     "execution_count": 8,
     "metadata": {},
     "output_type": "execute_result"
    }
   ],
   "source": [
    "from importlib import reload\n",
    "reload(hull)"
   ]
  },
  {
   "cell_type": "code",
   "execution_count": 10,
   "metadata": {},
   "outputs": [],
   "source": [
    "relax=  load_node('900cca7e-baba-4590-ad63-71971e1fc681')\n",
    "exp_df = hull.get_relax_record_single(relax)\n",
    "\n",
    "exp_df['energy_per_atom'] = exp_df['energy'] / exp_df.pmg_struct.apply(lambda x: x.composition.num_atoms)"
   ]
  },
  {
   "cell_type": "markdown",
   "metadata": {},
   "source": [
    "## Load search structures"
   ]
  },
  {
   "cell_type": "raw",
   "metadata": {},
   "source": [
    "project_names = ['catdisc/oxalate-F/run1', 'catdisc/oxalate-F/run2', 'catdisc/oxalate-F/li3fec2f-run1', 'catdisc/oxalate-F/li2fecf2', 'catdisc/oxalate-F/li2fecf2-run2', 'catdisc/oxalate-F/fec2o4']\n",
    "\n",
    "from disp.analysis.gather import DataCollector\n",
    "from disp.database.api import SearchDB, DB_FILE\n",
    "\n",
    "sdb = SearchDB.from_db_file(DB_FILE)\n",
    "\n",
    "collector = DataCollector(sdb, {'project_name': {'$in': project_names}, 'task_label': {'$regex': 'STATIC'}})\n",
    "results = collector.collect()\n",
    "results = pd.concat([results, exp_df], axis=0)\n",
    "search_entries = hull.get_entry(results, uuid_col='label')\n",
    "results['entries'] = search_entries\n",
    "\n",
    "results.groupby('formula')['energy_per_atom'].idxmin()\n",
    "\n",
    "lowest = results.loc[results.groupby('formula')['energy_per_atom'].idxmin()]\n",
    "search_entries = lowest.entries.to_list()"
   ]
  },
  {
   "cell_type": "code",
   "execution_count": 22,
   "metadata": {},
   "outputs": [],
   "source": [
    "from monty.serialization import dumpfn, loadfn"
   ]
  },
  {
   "cell_type": "raw",
   "metadata": {},
   "source": [
    "dumpfn(search_entries, \"search_entries.json\")"
   ]
  },
  {
   "cell_type": "code",
   "execution_count": 23,
   "metadata": {},
   "outputs": [],
   "source": [
    "search_entries = loadfn(\"search_entries.json\")"
   ]
  },
  {
   "cell_type": "markdown",
   "metadata": {},
   "source": [
    "## Construct the phase diagram"
   ]
  },
  {
   "cell_type": "code",
   "execution_count": 25,
   "metadata": {},
   "outputs": [],
   "source": [
    "from pymatgen.analysis.phase_diagram import PhaseDiagram, CompoundPhaseDiagram, PDPlotter\n",
    "from pymatgen.analysis.reaction_calculator import ComputedReaction"
   ]
  },
  {
   "cell_type": "code",
   "execution_count": 26,
   "metadata": {},
   "outputs": [],
   "source": [
    "\n",
    "\n",
    "for entry in competing_entries:\n",
    "    entry.correction = 0\n",
    "\n",
    "for entry in search_entries:\n",
    "    entry.correction = 0\n",
    "\n",
    "        \n",
    "pd_entries = search_entries + competing_entries\n",
    "\n",
    "phased = PhaseDiagram(pd_entries)"
   ]
  },
  {
   "cell_type": "code",
   "execution_count": 27,
   "metadata": {},
   "outputs": [],
   "source": [
    "for entry in pd_entries:\n",
    "    if entry.composition.reduced_formula == 'LiF':\n",
    "        lif = entry\n",
    "    if entry.composition.reduced_formula == 'FeF2':\n",
    "        fef2 = entry\n",
    "    if entry.composition.reduced_formula == 'LiCO2':\n",
    "        lico2 = entry\n",
    "    if entry.composition.reduced_formula == 'FeCO3':\n",
    "        feco3 = entry\n",
    "    if entry.composition.reduced_formula == 'Fe(CO2)2':\n",
    "        feox = entry"
   ]
  },
  {
   "cell_type": "code",
   "execution_count": 28,
   "metadata": {},
   "outputs": [
    {
     "name": "stdout",
     "output_type": "stream",
     "text": [
      "Li2Fe(CO2)4     ['LiFe(CO3)2', 'Li2CO3', 'CO2', 'C']               Above hull:    0.051 eV\n",
      "Li2FeC2(O2F)2   ['FeCO3', 'CO2', 'LiF', 'C']                       Above hull:    0.055 eV\n",
      "Fe(CO2)2        ['FeCO3', 'CO2', 'C']                              Above hull:    0.067 eV\n",
      "Li3FeC4O8F      ['LiFe(CO3)2', 'Li2CO3', 'CO2', 'LiF', 'C']        Above hull:    0.081 eV\n",
      "LiFeC2O4F       ['FeCO3', 'CO2', 'LiF', 'C']                       Above hull:    0.083 eV\n",
      "LiCO2           ['Li2CO3', 'CO2', 'C']                             Above hull:    0.047 eV\n"
     ]
    }
   ],
   "source": [
    "search_entries.sort(key=lambda x: phased.get_e_above_hull(x))\n",
    "comps = {}\n",
    "for entry in search_entries + [lico2]:\n",
    "    decomp, e_above_hull = phased.get_decomp_and_e_above_hull(entry)\n",
    "    decomp_forms = [x.composition.reduced_formula for x in decomp.keys()]\n",
    "    if entry.composition.reduced_formula not in comps:\n",
    "        print(f'{entry.composition.reduced_formula:<15} {str(decomp_forms):<50} Above hull: {e_above_hull:>8.3f} eV')\n",
    "        comps[entry.composition.reduced_formula] = entry\n",
    "    entry.data['e_above_hull'] = e_above_hull # Store the energy above the hull\n",
    "#print(comps)"
   ]
  }
 ],
 "metadata": {
  "kernelspec": {
   "display_name": "Python [conda env:aiida-1.0-py3]",
   "language": "python",
   "name": "conda-env-aiida-1.0-py3-py"
  },
  "language_info": {
   "codemirror_mode": {
    "name": "ipython",
    "version": 3
   },
   "file_extension": ".py",
   "mimetype": "text/x-python",
   "name": "python",
   "nbconvert_exporter": "python",
   "pygments_lexer": "ipython3",
   "version": "3.8.10"
  }
 },
 "nbformat": 4,
 "nbformat_minor": 4
}
