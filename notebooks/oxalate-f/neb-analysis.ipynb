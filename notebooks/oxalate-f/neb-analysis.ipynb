{
 "cells": [
  {
   "cell_type": "markdown",
   "id": "ee44f885-dbfa-435e-8132-e9766e0fd775",
   "metadata": {},
   "source": [
    "$$\\require{mhchem}$$\n",
    "# Analyse the neb results"
   ]
  },
  {
   "cell_type": "code",
   "execution_count": 1,
   "id": "f992bf87-3726-4e26-a602-1f6cd7517c40",
   "metadata": {},
   "outputs": [
    {
     "data": {
      "application/json": {
       "current_state": "Loaded AiiDA DB environment - profile name: scanlon-test."
      },
      "text/html": [
       "<p>Loaded AiiDA DB environment - profile name: scanlon-test.</p>"
      ],
      "text/latex": [
       "Loaded AiiDA DB environment - profile name: scanlon-test.\n"
      ],
      "text/plain": [
       "Loaded AiiDA DB environment - profile name: scanlon-test.\n"
      ]
     },
     "execution_count": 1,
     "metadata": {},
     "output_type": "execute_result"
    }
   ],
   "source": [
    "%aiida"
   ]
  },
  {
   "cell_type": "code",
   "execution_count": 2,
   "id": "6d7bcbd7-854f-4766-94ac-d1178d3fed8b",
   "metadata": {},
   "outputs": [],
   "source": [
    "from aiida.orm import StructureData\n",
    "import matplotlib.pyplot as plt"
   ]
  },
  {
   "cell_type": "code",
   "execution_count": 3,
   "id": "9a58a766-3727-492a-840b-d3cc02604972",
   "metadata": {},
   "outputs": [
    {
     "name": "stdout",
     "output_type": "stream",
     "text": [
      "Li2FeOxF2 NEB PATH1 109->87 ARCHER2 RESTART\n",
      "Li2FeOxF2 NEB PATH1 109->87 ARCHER2 RESTART ENDPOINT UPDATE\n",
      "Li2FeOxF2 NEB PATH2 109->83 ARCHER2\n"
     ]
    }
   ],
   "source": [
    "workchain = load_node('cc231a95-873a-4a2d-ae82-d5226e203e80')  # NOTE - this work has problematic input structures - the end point has high energy\n",
    "print(workchain.label)\n",
    "\n",
    "workchain = load_node(579858)\n",
    "print(workchain.label)\n",
    "\n",
    "workchain = load_node(581259)\n",
    "print(workchain.label)"
   ]
  },
  {
   "cell_type": "code",
   "execution_count": 4,
   "id": "4c1898bf-647c-4260-8da2-44dacb55fa03",
   "metadata": {},
   "outputs": [],
   "source": [
    "li2feoxf2_super = load_node('d8c517d9-8c23-4874-a0de-035e406b5df8')"
   ]
  },
  {
   "cell_type": "code",
   "execution_count": 5,
   "id": "46b00632-51be-490e-a310-da5e9dbed558",
   "metadata": {},
   "outputs": [],
   "source": [
    "li2feoxf2_super.get_pymatgen().to('cif', 'neb-supercell.cif')"
   ]
  },
  {
   "cell_type": "markdown",
   "id": "497a77e8-6efc-406e-a2dc-9eaf6f5f479f",
   "metadata": {},
   "source": [
    "## Pathways\n",
    "Movement of the vacancy in the original supercell cell \n",
    "\n",
    "Note this considers only one atom in a single chain. Each chain is equivalent, but the two Li atoms along the chain is not equivlant. Hence, strictly spacing the NNN pathways  will have different barries, the NN pathways are not affected upon exchange of the initial final structures.\n",
    "\n",
    "NN - along the chain\n",
    "* Path 1: 109 -> 87\n",
    "* Path 2: 109 -> 83\n",
    "\n",
    "NNN\n",
    "* Path 3: 109 -> 97\n",
    "* Path 4: 109 -> 110\n",
    "* Path 5: 109 -> 86\n",
    "* Path 6: 109 -> 101\n"
   ]
  },
  {
   "cell_type": "markdown",
   "id": "2cb4b4e8-b81a-4bc0-b876-60bf1fc3fb71",
   "metadata": {},
   "source": [
    "## For standard provenance"
   ]
  },
  {
   "cell_type": "raw",
   "id": "0820731e-e6f7-49e0-a082-effe21cde0ea",
   "metadata": {},
   "source": [
    "energies = {key: value['energy_without_entropy'] for key, value in workchain.outputs.neb_misc['neb_data'].items()}\n",
    "\n",
    "# Query for the energy computed for the end structures\n",
    "q = QueryBuilder()\n",
    "q.append(Node, filters={'id': workchain.inputs.initial_structure.id}, tag='root')\n",
    "q.append(CalcFunctionNode, with_outgoing='root', project=['attributes.function_name'])\n",
    "q.append(StructureData, with_outgoing=CalcFunctionNode, tag='relaxed', project=['label'], \n",
    "         #edge_filters={'label': 'init_structure'}, \n",
    "         edge_project=['label'])\n",
    "q.append(WorkflowFactory('vaspu.relax'), with_outgoing='relaxed', project=['label', 'uuid'], tag='relaxation')\n",
    "q.append(Dict, with_incoming='relaxation', edge_filters={'label': 'misc'}, project=['attributes.total_energies.energy_extrapolated'])\n",
    "q.distinct()\n",
    "\n",
    "ends = {}\n",
    "for _, _, _, relax_uuid, eng, label in q.all():\n",
    "    if label.startswith('init'):\n",
    "        ends['00'] = eng\n",
    "    elif label.startswith('final'):\n",
    "        ends['06'] = eng\n",
    "        \n",
    "energies.update(ends)"
   ]
  },
  {
   "cell_type": "markdown",
   "id": "b2af5f21-8830-4b1d-969f-0ff6816a4a3a",
   "metadata": {},
   "source": [
    "## For updaetd\n",
    "With later updated enpoints"
   ]
  },
  {
   "cell_type": "raw",
   "id": "527115c8-a022-470a-b511-128b91306379",
   "metadata": {},
   "source": [
    "energies = {key: value['energy_without_entropy'] for key, value in workchain.outputs.neb_misc['neb_data'].items()}\n",
    "\n",
    "# Query for the energy computed for the end structures\n",
    "q = QueryBuilder()\n",
    "q.append(Node, filters={'id': workchain.id})\n",
    "q.append(StructureData, with_outgoing=Node, edge_project=['label'], tag='root')\n",
    "q.append(WorkflowFactory('vaspu.relax'), with_outgoing='root', project=['label', 'uuid'], tag='relaxation')\n",
    "q.append(Dict, with_incoming='relaxation', edge_filters={'label': 'misc'}, project=['attributes.total_energies.energy_extrapolated'])\n",
    "q.distinct()\n",
    "\n",
    "ends = {}\n",
    "for relax_label, relax_uuid, eng, label in q.all():\n",
    "    if label.startswith('init'):\n",
    "        ends['00'] = eng\n",
    "    elif label.startswith('final'):\n",
    "        ends['06'] = eng\n",
    "        \n",
    "energies.update(ends)"
   ]
  },
  {
   "cell_type": "markdown",
   "id": "15ffadfb-9102-41b2-8f7e-9d1519faa1c9",
   "metadata": {},
   "source": [
    "### Tangential forces as reported by VSTS"
   ]
  },
  {
   "cell_type": "raw",
   "id": "ca085ddc-b63e-41e9-8f24-6fb84abced11",
   "metadata": {},
   "source": [
    "forces_list = []\n",
    "neb_data = workchain.outputs.neb_misc['neb_data']\n",
    "for i in range(1, 6):\n",
    "    forces = neb_data[f'{i:02d}']['tangents']\n",
    "    forces_list.append(forces)\n",
    "    \n",
    "forces_list.insert(0, np.zeros((3, len(workchain.inputs.initial_structure.sites))))\n",
    "forces_list.append(np.zeros((3, len(workchain.inputs.initial_structure.sites))))"
   ]
  },
  {
   "cell_type": "markdown",
   "id": "cc167330-eb47-463b-bc8f-28afbee78793",
   "metadata": {},
   "source": [
    "## Construct NEB frames - pymatgen"
   ]
  },
  {
   "cell_type": "code",
   "execution_count": 6,
   "id": "f219c0b1-734c-431a-8d5b-9058ad7f1fd7",
   "metadata": {},
   "outputs": [],
   "source": [
    "from pymatgen.analysis.transition_state import NEBAnalysis\n",
    "\n",
    "def get_pmg_neb(workchain, energies_override=None, updated_endpoints=False):\n",
    "    \"\"\"Get an NEBAnalysis instance for an NEB workchain/calculation\"\"\"\n",
    "    # Energy\n",
    "    energies = {key: value['energy_without_entropy'] for key, value in workchain.outputs.neb_misc['neb_data'].items()}\n",
    "\n",
    "    # Query for the energy computed for the end structures\n",
    "    if updated_endpoints is False:\n",
    "        q = QueryBuilder()\n",
    "        q.append(Node, filters={'id': workchain.inputs.initial_structure.id}, tag='root')\n",
    "        q.append(CalcFunctionNode, with_outgoing='root', project=['attributes.function_name'])\n",
    "        q.append(StructureData, with_outgoing=CalcFunctionNode, tag='relaxed', project=['label'], \n",
    "                 #edge_filters={'label': 'init_structure'}, \n",
    "                 edge_project=['label'])\n",
    "        q.append(WorkflowFactory('vaspu.relax'), with_outgoing='relaxed', project=['label', 'uuid'], tag='relaxation')\n",
    "        q.append(Dict, with_incoming='relaxation', edge_filters={'label': 'misc'}, project=['attributes.total_energies.energy_extrapolated'])\n",
    "        q.distinct()\n",
    "    else:\n",
    "        # The end point structures have been further relaxed\n",
    "        q = QueryBuilder()\n",
    "        q.append(Node, filters={'id': workchain.id}, project=['label', 'uuid'])\n",
    "        q.append(StructureData, with_outgoing=Node, edge_project=['label'], tag='root')\n",
    "        q.append(WorkflowFactory('vaspu.relax'), with_outgoing='root', project=['label', 'uuid'], tag='relaxation')\n",
    "        q.append(Dict, with_incoming='relaxation', edge_filters={'label': 'misc'}, project=['attributes.total_energies.energy_extrapolated'])\n",
    "        q.distinct()\n",
    "        \n",
    "    ends = {}\n",
    "    end_id = '{:02d}'.format(len(energies) + 1)\n",
    "    for _, _, _, relax_uuid, eng, label in q.all():\n",
    "        if label.startswith('init'):\n",
    "            if '00' in ends:\n",
    "                print('Duplicated calculation: {relax_uuid} -> {eng} vs existing {existing}'.format(relax_uuid, eng=eng, existing=end['00']))\n",
    "            else:\n",
    "                ends['00'] = eng\n",
    "            \n",
    "        elif label.startswith('final'):\n",
    "            if end_id in ends:\n",
    "                print('Duplicated calculation: {relax_uuid} -> {eng} vs existing {existing}'.format(relax_uuid, eng=eng, existing=end[end_id]))\n",
    "            else:\n",
    "                ends[end_id] = eng\n",
    "\n",
    "    energies.update(ends)\n",
    "    if energies_override:\n",
    "        energies.update(energies_override)\n",
    "    \n",
    "    # Structure\n",
    "    neb_frames = []\n",
    "    for i in range(1, 6):\n",
    "        atoms = workchain.outputs[f'structure__image_{i:02d}'].get_pymatgen()\n",
    "        neb_frames.append(atoms)\n",
    "    neb_frames.insert(0, workchain.inputs.initial_structure.get_pymatgen())\n",
    "    neb_frames.append(workchain.inputs.final_structure.get_pymatgen())\n",
    "\n",
    "    # Forces\n",
    "\n",
    "    forces_list = []\n",
    "    neb_data = workchain.outputs.neb_misc['neb_data']\n",
    "    for i in range(1, 6):\n",
    "        forces = neb_data[f'{i:02d}']['tangents']\n",
    "        forces_list.append(forces)\n",
    "\n",
    "    forces_list.insert(0, np.zeros((3, len(workchain.inputs.initial_structure.sites))))\n",
    "    forces_list.append(np.zeros((3, len(workchain.inputs.initial_structure.sites))))\n",
    "    \n",
    "    # Displacement\n",
    "    r = [0]\n",
    "    prev = neb_frames[0]\n",
    "    for st in neb_frames[1:]:\n",
    "        dists = np.array([s2.distance(s1) for s1, s2 in zip(prev, st)])\n",
    "        r.append(np.sqrt(np.sum(dists ** 2)))\n",
    "        prev = st\n",
    "    r = np.cumsum(r)\n",
    "\n",
    "    neb_analysis = NEBAnalysis(r, np.array([energies[f'{i:02d}'] for i in range(7)]), forces, neb_frames)\n",
    "    return neb_analysis"
   ]
  },
  {
   "cell_type": "code",
   "execution_count": null,
   "id": "92fad8ad-ed89-43ce-bfb9-d20d25309b0e",
   "metadata": {},
   "outputs": [],
   "source": [
    "neb = get_pmg_neb(workchain, updated_endpoints=False)"
   ]
  },
  {
   "cell_type": "raw",
   "id": "c910d63f-e1bf-4416-8f8c-97f338af687c",
   "metadata": {},
   "source": [
    "view(neb.structures)"
   ]
  },
  {
   "cell_type": "markdown",
   "id": "e31b62d3-7061-4edd-8041-6967bdd12eb2",
   "metadata": {},
   "source": [
    "## Manually plot the NEB results"
   ]
  },
  {
   "cell_type": "markdown",
   "id": "69b44985-bfce-428f-ac49-c8d59b20b289",
   "metadata": {},
   "source": [
    "### $\\ce{Li2Fe(C2O4)F2}$ Path 1 - NN - along the chain"
   ]
  },
  {
   "cell_type": "code",
   "execution_count": 8,
   "id": "951803e5-b5f3-47a8-9883-aa7a167ae168",
   "metadata": {},
   "outputs": [],
   "source": [
    "import matplotlib.pyplot as plt\n",
    "\n",
    "from pathlib import Path\n",
    "\n",
    "def load_and_plot(identifier, updated_endpoints=False, save_structure=True, *args, **kwargs):\n",
    "    \n",
    "    workchain = load_node(identifier)\n",
    "    neb_analysis = get_pmg_neb(workchain, updated_endpoints=updated_endpoints)\n",
    "\n",
    "\n",
    "\n",
    "\n",
    "    default_args = ['-']\n",
    "    default_kwargs = {'color': 'xkcd:light blue'}\n",
    "    default_kwargs.update(kwargs)\n",
    "    if args:\n",
    "        default_args = args\n",
    "        \n",
    "    x_points = neb_analysis.r\n",
    "    y_points = neb_analysis.energies - neb_analysis.energies[0]\n",
    "    plt.plot(x_points, y_points, 's', color=default_kwargs['color'])\n",
    "    \n",
    "    x_spline = np.linspace(x_points[0], x_points[-1], 100)\n",
    "    y_spline = neb_analysis.spline(x_spline)#\n",
    "    \n",
    "    plt.plot(x_spline, y_spline, *default_args, **default_kwargs)\n",
    "    print(neb_analysis.get_extrema(normalize_rxn_coordinate=False))\n",
    "    plt.xlabel('Reaction coordinate')\n",
    "    plt.ylabel('Energy (eV)')\n",
    "    if save_structure:\n",
    "        folder = kwargs.get('label').replace(' ', '_')\n",
    "        base = Path(f'neb-export/{folder}')\n",
    "        base.mkdir(exist_ok=True)\n",
    "        for idx, s in enumerate(neb_analysis.structures):\n",
    "            s.to('cif', base / f'frame-{idx}.cif')\n",
    "    return plt.gca(), neb_analysis"
   ]
  },
  {
   "cell_type": "code",
   "execution_count": 9,
   "id": "c80caa9e-cb16-4800-b0a4-e6c5b05ccf1b",
   "metadata": {},
   "outputs": [
    {
     "name": "stderr",
     "output_type": "stream",
     "text": [
      "/home/bonan/miniconda3/envs/aiida-1.0-py3/lib/python3.8/site-packages/aiida/orm/utils/managers.py:94: AiidaDeprecationWarning: dereferencing nodes with links containing double underscores is deprecated, simply replace the double underscores with a single dot instead. For example: \n",
      "`self.inputs.some__label` can be written as `self.inputs.some.label` instead.\n",
      "Support for double underscores will be removed in the future.\n",
      "  warnings.warn(\n"
     ]
    },
    {
     "name": "stdout",
     "output_type": "stream",
     "text": [
      "([], [(1.45, 391.8452428595372)])\n"
     ]
    },
    {
     "data": {
      "image/png": "[encoded data removed]",
      "text/plain": [
       "<Figure size 252x216 with 1 Axes>"
      ]
     },
     "metadata": {
      "needs_background": "light"
     },
     "output_type": "display_data"
    }
   ],
   "source": [
    "fig, axs = plt.subplots(1, 1, sharey=False, figsize=(3.5, 3))\n",
    "plt.sca(axs)\n",
    "p, ana = load_and_plot('ba0f6f99-3234-40b9-a3dc-ea53e314bc37', updated_endpoints=True, color='xkcd:red', label='Path 1')\n",
    "plt.tight_layout()\n",
    "plt.savefig('neb-path1-with-updated-endpoints.svg', dpi=200)"
   ]
  },
  {
   "cell_type": "markdown",
   "id": "b2337e12-899f-4b38-8952-65a6392d94f3",
   "metadata": {},
   "source": [
    "## Path2"
   ]
  },
  {
   "cell_type": "code",
   "execution_count": 10,
   "id": "e180880a-60ee-4880-b2db-986c75a9415d",
   "metadata": {},
   "outputs": [
    {
     "name": "stderr",
     "output_type": "stream",
     "text": [
      "/home/bonan/miniconda3/envs/aiida-1.0-py3/lib/python3.8/site-packages/aiida/orm/utils/managers.py:94: AiidaDeprecationWarning: dereferencing nodes with links containing double underscores is deprecated, simply replace the double underscores with a single dot instead. For example: \n",
      "`self.inputs.some__label` can be written as `self.inputs.some.label` instead.\n",
      "Support for double underscores will be removed in the future.\n",
      "  warnings.warn(\n"
     ]
    },
    {
     "name": "stdout",
     "output_type": "stream",
     "text": [
      "([], [(1.59, 391.1816122536189)])\n"
     ]
    },
    {
     "data": {
      "image/png": "[encoded data removed]",
      "text/plain": [
       "<Figure size 252x216 with 1 Axes>"
      ]
     },
     "metadata": {
      "needs_background": "light"
     },
     "output_type": "display_data"
    }
   ],
   "source": [
    "fig, axs = plt.subplots(1, 1, sharey=False, figsize=(3.5, 3))\n",
    "plt.sca(axs)\n",
    "load_and_plot('d3de1259-3eae-473e-baac-042f90269df3', updated_endpoints=False, color='xkcd:red', label='Path 2')\n",
    "plt.tight_layout()\n",
    "plt.savefig('neb-path2-finished.svg', dpi=200)"
   ]
  },
  {
   "cell_type": "markdown",
   "id": "765fffce-ce86-492d-9f57-ce59797d2f6f",
   "metadata": {},
   "source": [
    "## Path3"
   ]
  },
  {
   "cell_type": "code",
   "execution_count": 11,
   "id": "98111b1d-96da-44cc-b46a-c774f611cc92",
   "metadata": {},
   "outputs": [
    {
     "name": "stderr",
     "output_type": "stream",
     "text": [
      "/home/bonan/miniconda3/envs/aiida-1.0-py3/lib/python3.8/site-packages/aiida/orm/utils/managers.py:94: AiidaDeprecationWarning: dereferencing nodes with links containing double underscores is deprecated, simply replace the double underscores with a single dot instead. For example: \n",
      "`self.inputs.some__label` can be written as `self.inputs.some.label` instead.\n",
      "Support for double underscores will be removed in the future.\n",
      "  warnings.warn(\n"
     ]
    },
    {
     "name": "stdout",
     "output_type": "stream",
     "text": [
      "([], [(4.1, 1315.9147571427643)])\n"
     ]
    },
    {
     "data": {
      "image/png": "[encoded data removed]",
      "text/plain": [
       "<Figure size 252x216 with 1 Axes>"
      ]
     },
     "metadata": {
      "needs_background": "light"
     },
     "output_type": "display_data"
    }
   ],
   "source": [
    "fig, axs = plt.subplots(1, 1, sharey=False, figsize=(3.5, 3))\n",
    "plt.sca(axs)\n",
    "_, ana = load_and_plot('54c8f95a-5fd0-4f13-995e-f673f8ba6775', updated_endpoints=False, color='xkcd:amber', label='Path 3')\n",
    "plt.tight_layout()\n",
    "plt.savefig('neb-path3-finished.svg', dpi=200)"
   ]
  },
  {
   "cell_type": "markdown",
   "id": "66521be8-15fb-4ce0-baca-9929b44efbde",
   "metadata": {},
   "source": [
    "## Path4"
   ]
  },
  {
   "cell_type": "code",
   "execution_count": 12,
   "id": "7afe135c-9a6b-4e0d-9825-b2215335759d",
   "metadata": {},
   "outputs": [
    {
     "name": "stderr",
     "output_type": "stream",
     "text": [
      "/home/bonan/miniconda3/envs/aiida-1.0-py3/lib/python3.8/site-packages/aiida/orm/utils/managers.py:94: AiidaDeprecationWarning: dereferencing nodes with links containing double underscores is deprecated, simply replace the double underscores with a single dot instead. For example: \n",
      "`self.inputs.some__label` can be written as `self.inputs.some.label` instead.\n",
      "Support for double underscores will be removed in the future.\n",
      "  warnings.warn(\n"
     ]
    },
    {
     "name": "stdout",
     "output_type": "stream",
     "text": [
      "([(2.66, 678.0214463073049)], [(1.94, 778.5811243026559), (3.49, 821.2870764037675)])\n"
     ]
    },
    {
     "data": {
      "image/png": "[encoded data removed]",
      "text/plain": [
       "<Figure size 252x216 with 1 Axes>"
      ]
     },
     "metadata": {
      "needs_background": "light"
     },
     "output_type": "display_data"
    }
   ],
   "source": [
    "fig, axs = plt.subplots(1, 1, sharey=False, figsize=(3.5, 3))\n",
    "plt.sca(axs)\n",
    "_, ana = load_and_plot('3feff46b-134b-401f-bbdf-4987bb6a55fc', updated_endpoints=False, color='xkcd:brown', label='Path 4')\n",
    "plt.tight_layout()\n",
    "plt.savefig('neb-path4-finished.svg', dpi=200)"
   ]
  },
  {
   "cell_type": "markdown",
   "id": "0e81d634-2f9b-4a72-ba13-fcdf6a050141",
   "metadata": {},
   "source": [
    "## Path2 - reduced grid\n",
    "using grid 0.08 instead of 0.04"
   ]
  },
  {
   "cell_type": "code",
   "execution_count": 13,
   "id": "8850648c-7a14-4ae6-a1ad-40f2aea128a7",
   "metadata": {},
   "outputs": [
    {
     "name": "stderr",
     "output_type": "stream",
     "text": [
      "/home/bonan/miniconda3/envs/aiida-1.0-py3/lib/python3.8/site-packages/aiida/orm/utils/managers.py:94: AiidaDeprecationWarning: dereferencing nodes with links containing double underscores is deprecated, simply replace the double underscores with a single dot instead. For example: \n",
      "`self.inputs.some__label` can be written as `self.inputs.some.label` instead.\n",
      "Support for double underscores will be removed in the future.\n",
      "  warnings.warn(\n"
     ]
    },
    {
     "name": "stdout",
     "output_type": "stream",
     "text": [
      "([], [(1.53, 386.8286597308301)])\n"
     ]
    },
    {
     "data": {
      "image/png": "[encoded data removed]",
      "text/plain": [
       "<Figure size 252x216 with 1 Axes>"
      ]
     },
     "metadata": {
      "needs_background": "light"
     },
     "output_type": "display_data"
    }
   ],
   "source": [
    "fig, axs = plt.subplots(1, 1, sharey=False, figsize=(3.5, 3))\n",
    "plt.sca(axs)\n",
    "load_and_plot('9c0b1c4f-92b7-4fa0-96e4-8bf88f790827', updated_endpoints=False, color='xkcd:red', label='Path 2-reduced')\n",
    "plt.tight_layout()\n",
    "plt.savefig('neb-path2-finished-reduced-grid.svg', dpi=200)"
   ]
  },
  {
   "cell_type": "markdown",
   "id": "e7033459-b8f4-497a-8cda-f870eb4f6fe3",
   "metadata": {},
   "source": [
    "## Plot for path1 and path2"
   ]
  },
  {
   "cell_type": "code",
   "execution_count": 19,
   "id": "f8869f2d-3b3f-4ca7-9dad-2af4aaecd2c5",
   "metadata": {},
   "outputs": [
    {
     "name": "stderr",
     "output_type": "stream",
     "text": [
      "/home/bonan/miniconda3/envs/aiida-1.0-py3/lib/python3.8/site-packages/aiida/orm/utils/managers.py:94: AiidaDeprecationWarning: dereferencing nodes with links containing double underscores is deprecated, simply replace the double underscores with a single dot instead. For example: \n",
      "`self.inputs.some__label` can be written as `self.inputs.some.label` instead.\n",
      "Support for double underscores will be removed in the future.\n",
      "  warnings.warn(\n"
     ]
    },
    {
     "name": "stdout",
     "output_type": "stream",
     "text": [
      "([], [(1.45, 391.8452428595372)])\n"
     ]
    },
    {
     "name": "stderr",
     "output_type": "stream",
     "text": [
      "/home/bonan/miniconda3/envs/aiida-1.0-py3/lib/python3.8/site-packages/aiida/orm/utils/managers.py:94: AiidaDeprecationWarning: dereferencing nodes with links containing double underscores is deprecated, simply replace the double underscores with a single dot instead. For example: \n",
      "`self.inputs.some__label` can be written as `self.inputs.some.label` instead.\n",
      "Support for double underscores will be removed in the future.\n",
      "  warnings.warn(\n"
     ]
    },
    {
     "name": "stdout",
     "output_type": "stream",
     "text": [
      "([], [(1.59, 391.1816122536189)])\n"
     ]
    },
    {
     "data": {
      "image/png": "[encoded data removed]",
      "text/plain": [
       "<Figure size 252x216 with 1 Axes>"
      ]
     },
     "metadata": {
      "needs_background": "light"
     },
     "output_type": "display_data"
    }
   ],
   "source": [
    "fig, axs = plt.subplots(1, 1, sharey=False, figsize=(3.5, 3))\n",
    "plt.sca(axs)\n",
    "p, ana = load_and_plot('ba0f6f99-3234-40b9-a3dc-ea53e314bc37', updated_endpoints=True, color='xkcd:red', label='Path 1')\n",
    "load_and_plot('d3de1259-3eae-473e-baac-042f90269df3', updated_endpoints=False, color='xkcd:sky blue', label='Path 2')\n",
    "\n",
    "plt.tight_layout()\n",
    "plt.legend()\n",
    "plt.savefig('neb-path2-path1-combined.svg', dpi=200)"
   ]
  },
  {
   "cell_type": "code",
   "execution_count": 20,
   "id": "59847e6d-7a8f-4834-9749-f3f1f612c8a5",
   "metadata": {},
   "outputs": [
    {
     "name": "stderr",
     "output_type": "stream",
     "text": [
      "/home/bonan/miniconda3/envs/aiida-1.0-py3/lib/python3.8/site-packages/aiida/orm/utils/managers.py:94: AiidaDeprecationWarning: dereferencing nodes with links containing double underscores is deprecated, simply replace the double underscores with a single dot instead. For example: \n",
      "`self.inputs.some__label` can be written as `self.inputs.some.label` instead.\n",
      "Support for double underscores will be removed in the future.\n",
      "  warnings.warn(\n"
     ]
    },
    {
     "name": "stdout",
     "output_type": "stream",
     "text": [
      "([], [(4.1, 1315.9147571427643)])\n"
     ]
    },
    {
     "name": "stderr",
     "output_type": "stream",
     "text": [
      "/home/bonan/miniconda3/envs/aiida-1.0-py3/lib/python3.8/site-packages/aiida/orm/utils/managers.py:94: AiidaDeprecationWarning: dereferencing nodes with links containing double underscores is deprecated, simply replace the double underscores with a single dot instead. For example: \n",
      "`self.inputs.some__label` can be written as `self.inputs.some.label` instead.\n",
      "Support for double underscores will be removed in the future.\n",
      "  warnings.warn(\n"
     ]
    },
    {
     "name": "stdout",
     "output_type": "stream",
     "text": [
      "([(2.66, 678.0214463073049)], [(1.94, 778.5811243026559), (3.49, 821.2870764037675)])\n"
     ]
    },
    {
     "data": {
      "image/png": "[encoded data removed]",
      "text/plain": [
       "<Figure size 252x216 with 1 Axes>"
      ]
     },
     "metadata": {
      "needs_background": "light"
     },
     "output_type": "display_data"
    }
   ],
   "source": [
    "fig, axs = plt.subplots(1, 1, sharey=False, figsize=(3.5, 3))\n",
    "plt.sca(axs)\n",
    "_, ana = load_and_plot('54c8f95a-5fd0-4f13-995e-f673f8ba6775', updated_endpoints=False, color='xkcd:amber', label='Path 3')\n",
    "_, ana = load_and_plot('3feff46b-134b-401f-bbdf-4987bb6a55fc', updated_endpoints=False, color='xkcd:brown', label='Path 4')\n",
    "plt.tight_layout()\n",
    "plt.legend()\n",
    "plt.savefig('neb-path3-path4-combined.svg', dpi=200)"
   ]
  }
 ],
 "metadata": {
  "kernelspec": {
   "display_name": "Python [conda env:aiida-1.0-py3]",
   "language": "python",
   "name": "conda-env-aiida-1.0-py3-py"
  },
  "language_info": {
   "codemirror_mode": {
    "name": "ipython",
    "version": 3
   },
   "file_extension": ".py",
   "mimetype": "text/x-python",
   "name": "python",
   "nbconvert_exporter": "python",
   "pygments_lexer": "ipython3",
   "version": "3.8.10"
  }
 },
 "nbformat": 4,
 "nbformat_minor": 5
}
