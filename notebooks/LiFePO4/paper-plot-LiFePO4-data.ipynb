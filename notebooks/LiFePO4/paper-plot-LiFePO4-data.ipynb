{
 "cells": [
  {
   "cell_type": "markdown",
   "metadata": {},
   "source": [
    "# Analyse AIRSS Search results"
   ]
  },
  {
   "cell_type": "code",
   "execution_count": 1,
   "metadata": {},
   "outputs": [],
   "source": [
    "%matplotlib inline\n",
    "import matplotlib.pyplot as plt\n",
    "#from toolchest.airssutils import read_res, read_res_title, read_stream\n",
    "import pandas as pd\n",
    "import numpy as np"
   ]
  },
  {
   "cell_type": "markdown",
   "metadata": {},
   "source": [
    "Read in the data using cryan"
   ]
  },
  {
   "cell_type": "markdown",
   "metadata": {},
   "source": [
    "## Load VASP resulst computed from AiiDA"
   ]
  },
  {
   "cell_type": "code",
   "execution_count": 2,
   "metadata": {},
   "outputs": [],
   "source": [
    "%aiida\n",
    "from aiida.orm import Group, QueryBuilder, StructureData,Code, Computer\n",
    "# Gruop containing the res structures for easy access\n",
    "res_structgroup = Group.objects.get_or_create('lifepo4-airss-refine-res-structure')[0]\n",
    "vasp_relax = WorkflowFactory('vaspu.relax')\n",
    "mp_struct_group = Group.objects.get(label='lifepo4-mp-refine')"
   ]
  },
  {
   "cell_type": "code",
   "execution_count": 3,
   "metadata": {},
   "outputs": [],
   "source": [
    "import re\n",
    "# Patter matching the name\n",
    "pat = re.compile(r'([\\w\\-_]+)\\.res')\n",
    "\n",
    "def get_functional(incar, pot):\n",
    "    \"\"\"\n",
    "    Return the name of the functional\n",
    "    \"\"\"\n",
    "    if 'metagga' in incar:\n",
    "        return incar['metagga']\n",
    "    if pot.startswith('LDA'):\n",
    "        if incar.get('gga'):\n",
    "            return 'gga+ldapp'\n",
    "        else:\n",
    "            return 'lda'\n",
    "    elif pot.startswith('PBE'):\n",
    "        gga = incar.get('gga')\n",
    "        hf = incar.get('lhfcalc')\n",
    "        if not hf:\n",
    "            if (not gga) or gga.lower() == 'pe':\n",
    "                return 'pbe'\n",
    "            if gga.lower() == 'ps':\n",
    "                return 'pbesol'\n",
    "        else:\n",
    "            if (not gga) or gga.lower() == 'pe':\n",
    "                if incar.get('aexx') in [0.25, None] and (incar.get('hfscreen') - 0.2 < 0.01):\n",
    "                    return 'hse06'\n",
    "            \n",
    "    return 'unknown'\n",
    "\n",
    "def get_dataframe(group, lkey=0):\n",
    "    \"\"\"Obtained relaxed structures for a particular group\"\"\"\n",
    "    q = QueryBuilder()\n",
    "    q.append(Group, filters={'id': group.pk})\n",
    "    q.append(StructureData, with_group=Group, project=['id'])\n",
    "    q.append(vasp_relax, with_incoming=StructureData, filters={'attributes.exit_status': {'in': [0, 406, 600]}},\n",
    "             project=['uuid', 'label'])\n",
    "    q.append(StructureData, with_incoming=vasp_relax, project=['id', '*'], edge_filters={'label': 'relax__structure'})\n",
    "    q.append(Dict, with_outgoing=vasp_relax, filters={\n",
    "        'or': [{'attributes.vasp.encut': 520}, {'attributes.incar.encut': 520}]},\n",
    "             edge_filters={'label': {'like': '%parameters'}},\n",
    "            project=['attributes'])\n",
    "    q.append(Dict, with_incoming=vasp_relax, project=['attributes.total_energies'], edge_filters={'label': 'misc'})\n",
    "    q.distinct()\n",
    "    results = []\n",
    "    for spk, rpk, rlabel, rspk, struct, inputd, eng  in q.all():\n",
    "        funits = struct.get_pymatgen().composition.get_integer_formula_and_factor()[1]\n",
    "        name = rlabel.split()[lkey]\n",
    "        eng = list(eng.values())[0]\n",
    "        if 'incar' in inputd:\n",
    "            inputd = inputd['incar']\n",
    "        else:\n",
    "            inputd = inputd['vasp']\n",
    "        results.append({'relax_label':rlabel, \n",
    "                        'functional': get_functional(inputd, 'PBE.54'),\n",
    "                        'label': str(name), 'relax_work': rpk, 'relaxed': rspk, \n",
    "                        'energy': eng, 'energy_fu': eng / funits, 'nform': funits,\n",
    "                        'volume': struct.get_cell_volume(), 'volume_fu': struct.get_cell_volume() / funits})\n",
    "    return pd.DataFrame.from_records(results)\n"
   ]
  },
  {
   "cell_type": "code",
   "execution_count": 4,
   "metadata": {},
   "outputs": [],
   "source": [
    "res_vasp_df = get_dataframe(res_structgroup)\n",
    "mp_vasp_df = get_dataframe(mp_struct_group, lkey=1)\n",
    "\n",
    "vasp_df = pd.concat([res_vasp_df, mp_vasp_df], axis=0)\n",
    "vasp_df['label'] = vasp_df['label'].str.replace('.res', '')\n",
    "\n",
    "for funct in ['pbe', 'pbesol']:\n",
    "    ref = vasp_df.loc[(vasp_df['label'] == \"2LFP_REF-mp-19017\")&(vasp_df.functional == funct)]\n",
    "    vasp_df.loc[vasp_df.functional == funct, 'e_vasp_ref'] = vasp_df.loc[vasp_df.functional == funct, 'energy_fu'] - ref.energy_fu.iloc[0]\n",
    "\n",
    "tagf= lambda x: 'MP' if 'mp' in x else \"AIRSS\"\n",
    "vasp_df['type'] = [ tagf(x) for x in vasp_df.label ]\n",
    "vasp_df_mp = vasp_df[vasp_df.type == 'MP']\n",
    "vasp_df_airss = vasp_df[vasp_df.type == 'AIRSS']\n",
    "\n",
    "vasp_df.loc[vasp_df['label'].str.contains('9153-6'), 'type'] = 'MP'\n",
    "\n",
    "\n",
    "vasp_df['natom'] = vasp_df['nform'] * 7\n",
    "vasp_df['e_vasp_pa'] = vasp_df['e_vasp_ref'] / 7"
   ]
  },
  {
   "cell_type": "code",
   "execution_count": 5,
   "metadata": {},
   "outputs": [],
   "source": [
    "vasp_pbe = vasp_df[vasp_df.functional == 'pbe']\n",
    "vasp_pbesol = vasp_df[vasp_df.functional == 'pbesol']\n"
   ]
  },
  {
   "cell_type": "markdown",
   "metadata": {},
   "source": [
    "# Export the data as plain CSV"
   ]
  },
  {
   "cell_type": "code",
   "execution_count": 7,
   "metadata": {},
   "outputs": [],
   "source": [
    "DATADIR = '../CoM_paper/data/'\n",
    "vasp_pbe.to_csv(DATADIR + 'lifepo4-pbe-data.csv')\n",
    "vasp_pbesol.to_csv(DATADIR + 'lifepo4-pbesol-data.csv')"
   ]
  },
  {
   "cell_type": "markdown",
   "metadata": {},
   "source": [
    "Export relaxated structures"
   ]
  }
 ],
 "metadata": {
  "kernelspec": {
   "display_name": "Python [conda env:aiida-1.0-py3]",
   "language": "python",
   "name": "conda-env-aiida-1.0-py3-py"
  },
  "language_info": {
   "codemirror_mode": {
    "name": "ipython",
    "version": 3
   },
   "file_extension": ".py",
   "mimetype": "text/x-python",
   "name": "python",
   "nbconvert_exporter": "python",
   "pygments_lexer": "ipython3",
   "version": "3.8.10"
  }
 },
 "nbformat": 4,
 "nbformat_minor": 4
}
