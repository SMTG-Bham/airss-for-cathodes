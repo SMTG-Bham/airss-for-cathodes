{
 "cells": [
  {
   "cell_type": "markdown",
   "metadata": {},
   "source": [
    "## Plot the magnetic data"
   ]
  },
  {
   "cell_type": "code",
   "execution_count": 1,
   "metadata": {},
   "outputs": [],
   "source": [
    "import pandas as pd"
   ]
  },
  {
   "cell_type": "code",
   "execution_count": 2,
   "metadata": {},
   "outputs": [
    {
     "data": {
      "text/html": [
       "<div>\n",
       "<style scoped>\n",
       "    .dataframe tbody tr th:only-of-type {\n",
       "        vertical-align: middle;\n",
       "    }\n",
       "\n",
       "    .dataframe tbody tr th {\n",
       "        vertical-align: top;\n",
       "    }\n",
       "\n",
       "    .dataframe thead th {\n",
       "        text-align: right;\n",
       "    }\n",
       "</style>\n",
       "<table border=\"1\" class=\"dataframe\">\n",
       "  <thead>\n",
       "    <tr style=\"text-align: right;\">\n",
       "      <th></th>\n",
       "      <th>energy_fu</th>\n",
       "      <th>relaxed</th>\n",
       "      <th>volume_fu</th>\n",
       "      <th>e_vasp_ref</th>\n",
       "    </tr>\n",
       "    <tr>\n",
       "      <th>label</th>\n",
       "      <th></th>\n",
       "      <th></th>\n",
       "      <th></th>\n",
       "      <th></th>\n",
       "    </tr>\n",
       "  </thead>\n",
       "  <tbody>\n",
       "    <tr>\n",
       "      <th>2LiFeSO4F-200804-034722-678938</th>\n",
       "      <td>-48.272479</td>\n",
       "      <td>b60e1513-1c6f-4ce6-af79-3981536dd19e</td>\n",
       "      <td>103.915740</td>\n",
       "      <td>0.000000</td>\n",
       "    </tr>\n",
       "    <tr>\n",
       "      <th>4LiFeSO4F-200804-074522-8932e9</th>\n",
       "      <td>-48.258447</td>\n",
       "      <td>3ba0f21b-4e91-4958-aad1-a4fec99d8495</td>\n",
       "      <td>104.299580</td>\n",
       "      <td>0.014032</td>\n",
       "    </tr>\n",
       "    <tr>\n",
       "      <th>4LiFeSO4F-200804-070941-02f116</th>\n",
       "      <td>-48.234094</td>\n",
       "      <td>f38b83a3-4e36-4c79-adbf-b72992c238f2</td>\n",
       "      <td>97.476738</td>\n",
       "      <td>0.038385</td>\n",
       "    </tr>\n",
       "    <tr>\n",
       "      <th>4LiFeSO4F-200804-063655-9d6304</th>\n",
       "      <td>-48.233147</td>\n",
       "      <td>60216625-0d7c-435c-b7a4-3e36802063e1</td>\n",
       "      <td>94.981354</td>\n",
       "      <td>0.039332</td>\n",
       "    </tr>\n",
       "    <tr>\n",
       "      <th>4LiFeSO4F-200804-055002-9fc062</th>\n",
       "      <td>-48.220242</td>\n",
       "      <td>2064057b-cc5b-4d43-be45-7d8204feb94c</td>\n",
       "      <td>93.285104</td>\n",
       "      <td>0.052237</td>\n",
       "    </tr>\n",
       "    <tr>\n",
       "      <th>2LiFeSO4F-200804-051350-99d823</th>\n",
       "      <td>-48.212473</td>\n",
       "      <td>fa4df8ba-4a3f-44a5-9820-a03f0c836a25</td>\n",
       "      <td>95.904383</td>\n",
       "      <td>0.060005</td>\n",
       "    </tr>\n",
       "    <tr>\n",
       "      <th>mp-1222389</th>\n",
       "      <td>-48.212231</td>\n",
       "      <td>2093e561-0802-418b-b143-271992ad5f83</td>\n",
       "      <td>95.373852</td>\n",
       "      <td>0.060248</td>\n",
       "    </tr>\n",
       "    <tr>\n",
       "      <th>LiFeSO4F-tavorite(MP)</th>\n",
       "      <td>-48.209214</td>\n",
       "      <td>3192ee81-604d-4653-a5f2-a4bf70501a75</td>\n",
       "      <td>95.743087</td>\n",
       "      <td>0.063265</td>\n",
       "    </tr>\n",
       "    <tr>\n",
       "      <th>LiFeSO4F-triplite_5</th>\n",
       "      <td>-48.212786</td>\n",
       "      <td>ae207049-f7b7-4a53-801a-0d45b4240464</td>\n",
       "      <td>NaN</td>\n",
       "      <td>NaN</td>\n",
       "    </tr>\n",
       "    <tr>\n",
       "      <th>LiFeSO4F-triplite_0</th>\n",
       "      <td>-48.200384</td>\n",
       "      <td>b53a0bd3-eb67-44b9-a00d-81b084cf736e</td>\n",
       "      <td>NaN</td>\n",
       "      <td>NaN</td>\n",
       "    </tr>\n",
       "    <tr>\n",
       "      <th>LiFeSO4F-triplite_14</th>\n",
       "      <td>-48.184605</td>\n",
       "      <td>6e113f26-dfab-406a-9783-b4e7e87505b4</td>\n",
       "      <td>NaN</td>\n",
       "      <td>NaN</td>\n",
       "    </tr>\n",
       "  </tbody>\n",
       "</table>\n",
       "</div>"
      ],
      "text/plain": [
       "                                energy_fu  \\\n",
       "label                                       \n",
       "2LiFeSO4F-200804-034722-678938 -48.272479   \n",
       "4LiFeSO4F-200804-074522-8932e9 -48.258447   \n",
       "4LiFeSO4F-200804-070941-02f116 -48.234094   \n",
       "4LiFeSO4F-200804-063655-9d6304 -48.233147   \n",
       "4LiFeSO4F-200804-055002-9fc062 -48.220242   \n",
       "2LiFeSO4F-200804-051350-99d823 -48.212473   \n",
       "mp-1222389                     -48.212231   \n",
       "LiFeSO4F-tavorite(MP)          -48.209214   \n",
       "LiFeSO4F-triplite_5            -48.212786   \n",
       "LiFeSO4F-triplite_0            -48.200384   \n",
       "LiFeSO4F-triplite_14           -48.184605   \n",
       "\n",
       "                                                             relaxed  \\\n",
       "label                                                                  \n",
       "2LiFeSO4F-200804-034722-678938  b60e1513-1c6f-4ce6-af79-3981536dd19e   \n",
       "4LiFeSO4F-200804-074522-8932e9  3ba0f21b-4e91-4958-aad1-a4fec99d8495   \n",
       "4LiFeSO4F-200804-070941-02f116  f38b83a3-4e36-4c79-adbf-b72992c238f2   \n",
       "4LiFeSO4F-200804-063655-9d6304  60216625-0d7c-435c-b7a4-3e36802063e1   \n",
       "4LiFeSO4F-200804-055002-9fc062  2064057b-cc5b-4d43-be45-7d8204feb94c   \n",
       "2LiFeSO4F-200804-051350-99d823  fa4df8ba-4a3f-44a5-9820-a03f0c836a25   \n",
       "mp-1222389                      2093e561-0802-418b-b143-271992ad5f83   \n",
       "LiFeSO4F-tavorite(MP)           3192ee81-604d-4653-a5f2-a4bf70501a75   \n",
       "LiFeSO4F-triplite_5             ae207049-f7b7-4a53-801a-0d45b4240464   \n",
       "LiFeSO4F-triplite_0             b53a0bd3-eb67-44b9-a00d-81b084cf736e   \n",
       "LiFeSO4F-triplite_14            6e113f26-dfab-406a-9783-b4e7e87505b4   \n",
       "\n",
       "                                 volume_fu  e_vasp_ref  \n",
       "label                                                   \n",
       "2LiFeSO4F-200804-034722-678938  103.915740    0.000000  \n",
       "4LiFeSO4F-200804-074522-8932e9  104.299580    0.014032  \n",
       "4LiFeSO4F-200804-070941-02f116   97.476738    0.038385  \n",
       "4LiFeSO4F-200804-063655-9d6304   94.981354    0.039332  \n",
       "4LiFeSO4F-200804-055002-9fc062   93.285104    0.052237  \n",
       "2LiFeSO4F-200804-051350-99d823   95.904383    0.060005  \n",
       "mp-1222389                       95.373852    0.060248  \n",
       "LiFeSO4F-tavorite(MP)            95.743087    0.063265  \n",
       "LiFeSO4F-triplite_5                    NaN         NaN  \n",
       "LiFeSO4F-triplite_0                    NaN         NaN  \n",
       "LiFeSO4F-triplite_14                   NaN         NaN  "
      ]
     },
     "execution_count": 2,
     "metadata": {},
     "output_type": "execute_result"
    }
   ],
   "source": [
    "import pandas as pd\n",
    "triplite_data = pd.read_csv(\"../data/triplite_fm_energies.csv\").set_index(\"label\").sort_values(\"energy_fu\")\n",
    "df = pd.read_csv(\"../data/summary_data.csv\", index_col='label').sort_values('e_vasp_ref')\n",
    "\n",
    "uuid_mask = df.head(10).groupby(lambda x: x).last()['relaxed']\n",
    "mask = df.relaxed.apply(lambda x: x in uuid_mask.values)\n",
    "selected = df[mask][['energy_fu', 'relaxed', 'volume_fu', 'e_vasp_ref']]\n",
    "# Hack \n",
    "selected.loc['mp-943492', 'relaxed'] = \"3192ee81-604d-4653-a5f2-a4bf70501a75\"  # Swap for the ground state of Tavorite\n",
    "# Add the triplite phases\n",
    "to_join = triplite_data.head(3)[['structure', 'energy_fu']]\n",
    "to_join = to_join.rename(columns={'structure': 'relaxed'})\n",
    "selected = selected.append(to_join)\n",
    "selected = selected.rename(index={\n",
    "    'LiFeSO4F triplite-ordered-5': 'LiFeSO4F-triplite_5',\n",
    "    'LiFeSO4F triplite-ordered-0': 'LiFeSO4F-triplite_0',\n",
    "    'LiFeSO4F triplite-ordered-14': 'LiFeSO4F-triplite_14',\n",
    "    'mp-943492': 'LiFeSO4F-tavorite(MP)'\n",
    "\n",
    "})\n",
    "selected"
   ]
  },
  {
   "cell_type": "code",
   "execution_count": 3,
   "metadata": {},
   "outputs": [],
   "source": [
    "magnetic_df = pd.read_csv(\"data/magnetic_test_results.csv\")"
   ]
  },
  {
   "cell_type": "code",
   "execution_count": 5,
   "metadata": {},
   "outputs": [],
   "source": [
    "naming = {\n",
    "    '8938': 'A',\n",
    "    'f116': 'C',\n",
    "    '32e9': 'B',\n",
    "    'tavorite(MP)': 'Ta-I',\n",
    "    '6304': 'D',\n",
    "    'c062': 'E',\n",
    "    'd823': 'F',\n",
    "    '2389': 'Ta-II',\n",
    "    'triplite_5': 'Tr-I',\n",
    "    'triplite_0': 'Tr-II',\n",
    "    'triplite_14': 'Tr-III'\n",
    "}\n",
    "def get_alias(label):\n",
    "    for key, value in naming.items():\n",
    "        if label.endswith(key):\n",
    "            return value\n",
    "    return None"
   ]
  },
  {
   "cell_type": "markdown",
   "metadata": {},
   "source": [
    "## Get the extra tavorite energy"
   ]
  },
  {
   "cell_type": "code",
   "execution_count": 7,
   "metadata": {},
   "outputs": [],
   "source": [
    "import matplotlib.pyplot as plt\n",
    "import matplotlib"
   ]
  },
  {
   "cell_type": "code",
   "execution_count": 8,
   "metadata": {},
   "outputs": [],
   "source": [
    "plt.style.use(\"/home/bonan/.config/matplotlib/stylelib/pulication.mplstyle\")\n",
    "plt.rcParams['legend.fontsize'] = 9"
   ]
  },
  {
   "cell_type": "code",
   "execution_count": 7,
   "metadata": {},
   "outputs": [
    {
     "data": {
      "image/png": "[encoded data removed]",
      "text/plain": [
       "<Figure size 250x250 with 1 Axes>"
      ]
     },
     "metadata": {
      "needs_background": "light"
     },
     "output_type": "display_data"
    }
   ],
   "source": [
    "plot_df = magnetic_df.set_index('label')\n",
    "plot_df['energy_fu'] = selected['energy_fu']\n",
    "\n",
    "# insert revised energy for tavorite\n",
    "plot_df.loc['LiFeSO4F-tavorite(MP)', 'energy_fu'] = -48.235022\n",
    "plot_df.loc['LiFeSO4F-tavorite(MP)', 'relax_uuid'] = '7746676c-4993-4087-9b9d-80d45ca8a6f8'\n",
    "\n",
    "plot_df['short_label'] = [x.split('-')[-1] for x in plot_df.index]\n",
    "plot_df['energy_afm'] = (plot_df['energy'] - plot_df['energy_fu'].min()) / 8 * 1000\n",
    "plot_df['energy_fm'] = (plot_df['energy_fu'] - plot_df['energy_fu'].min()) / 8 * 1000\n",
    "plot_df.rename(columns={'energy_fm': 'FM', 'energy_afm': 'AFM'}, inplace=True)\n",
    "plot_df.sort_values('energy_fu', inplace=True)\n",
    "plot_df['alias'] = [get_alias(x) for x in plot_df.index]\n",
    "fig, ax = plt.subplots(1, 1, figsize=(2.5, 2.5), dpi=100)\n",
    "plot_df.plot.bar(x='alias', y=[\"FM\", \"AFM\"], color=['xkcd:red', 'xkcd:medium blue'], ax=ax)\n",
    "plt.ylabel(\"dE (meV/atom)\")\n",
    "plt.xlabel('Name')\n",
    "plt.tight_layout()\n",
    "plt.savefig(\"paper_assets/energt_diff_fm_afm.svg\")\n",
    "plt.savefig(\"paper_assets/energt_diff_fm_afm.png\")\n",
    "plot_df.to_csv(\"paper_assets/magnet_plot_data.csv\")"
   ]
  }
 ],
 "metadata": {
  "kernelspec": {
   "display_name": "Python [conda env:aiida-1.0-py3]",
   "language": "python",
   "name": "conda-env-aiida-1.0-py3-py"
  },
  "language_info": {
   "codemirror_mode": {
    "name": "ipython",
    "version": 3
   },
   "file_extension": ".py",
   "mimetype": "text/x-python",
   "name": "python",
   "nbconvert_exporter": "python",
   "pygments_lexer": "ipython3",
   "version": "3.8.10"
  }
 },
 "nbformat": 4,
 "nbformat_minor": 4
}
